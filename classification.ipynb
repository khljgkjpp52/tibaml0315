{
  "nbformat": 4,
  "nbformat_minor": 0,
  "metadata": {
    "colab": {
      "provenance": [],
      "authorship_tag": "ABX9TyNIWqcd7zfpl19bFIAIh1+5",
      "include_colab_link": true
    },
    "kernelspec": {
      "name": "python3",
      "display_name": "Python 3"
    },
    "language_info": {
      "name": "python"
    }
  },
  "cells": [
    {
      "cell_type": "markdown",
      "metadata": {
        "id": "view-in-github",
        "colab_type": "text"
      },
      "source": [
        "<a href=\"https://colab.research.google.com/github/khljgkjpp52/tibaml0315/blob/main/classification.ipynb\" target=\"_parent\"><img src=\"https://colab.research.google.com/assets/colab-badge.svg\" alt=\"Open In Colab\"/></a>"
      ]
    },
    {
      "cell_type": "markdown",
      "source": [
        "latex math用法\n",
        "\n",
        "$ Area = \\frac{1}{2+x}π{R^2} $"
      ],
      "metadata": {
        "id": "m8vGuonUJGG5"
      }
    },
    {
      "cell_type": "markdown",
      "source": [
        "1. scikit-learn：sklearn 機器學習\n",
        "2. pandas：表格處理\n",
        "3. numpy：多為陣列函式庫\n",
        "4. opencv：影像處理、AI函式庫\n",
        "5. Pillow(PIL)：影像處理"
      ],
      "metadata": {
        "id": "wIXEZISzyzOb"
      }
    },
    {
      "cell_type": "markdown",
      "source": [
        "資料量的需求\n",
        "1. 機器學習：1k~10k 以上\n",
        "2. 深度學習：10k~100k以上\n",
        "\n",
        "題目難度 <-> 資料需求\n",
        "1. 簡單：少點ok\n",
        "2. 難：多一點\n",
        "\n",
        "題目難度可以參考欄位數目"
      ],
      "metadata": {
        "id": "0DqiCnZQ4rAG"
      }
    },
    {
      "cell_type": "code",
      "execution_count": 10,
      "metadata": {
        "colab": {
          "base_uri": "https://localhost:8080/"
        },
        "id": "KV7ZLqngIqLb",
        "outputId": "49cef328-980a-4a4c-d891-6c64f9c6e4ed"
      },
      "outputs": [
        {
          "output_type": "stream",
          "name": "stderr",
          "text": [
            "<ipython-input-10-d46fd26f8148>:8: SettingWithCopyWarning: \n",
            "A value is trying to be set on a copy of a slice from a DataFrame.\n",
            "Try using .loc[row_indexer,col_indexer] = value instead\n",
            "\n",
            "See the caveats in the documentation: https://pandas.pydata.org/pandas-docs/stable/user_guide/indexing.html#returning-a-view-versus-a-copy\n",
            "  total[\"ans\"] = iris[\"target\"]\n"
          ]
        }
      ],
      "source": [
        "import pandas as pd\n",
        "from sklearn.datasets import load_iris\n",
        "iris = load_iris()\n",
        "x = pd.DataFrame(iris[\"data\"], columns = iris[\"feature_names\"])\n",
        "y = iris[\"target\"]\n",
        "# 順便複習\n",
        "total = x[:]\n",
        "total[\"ans\"] = iris[\"target\"]\n",
        "total.to_csv(\"iris.csv\", index=False, encoding=\"utf-8\") # index列編號"
      ]
    },
    {
      "cell_type": "markdown",
      "source": [
        "先把你的資料分成兩分：一份訓練/一份驗證\n",
        "進到sklearn以前:pd.DataFrame\n",
        "進到sklearn以後(train_test_split): np.array"
      ],
      "metadata": {
        "id": "9MDm9BSI9kTf"
      }
    },
    {
      "cell_type": "code",
      "source": [
        "import numpy as np\n",
        "from sklearn.model_selection import train_test_split\n",
        "# 會把資料打亂，但打亂的同時也會對應相應的位置\n",
        "# train_test_split([1, 2, 3, 4], test_size=) # test_size -> 選擇幾個當測試\n",
        "# train_test_split([1, 2, 3, 4], [5, 6, 7, 8], [9, 10, 11, 12], test_size=1) # test_size -> 選擇幾個當測試\n",
        "x_np = np.array(x)\n",
        "y_np = np.array(y)\n",
        "# 90%xnp, 10%xnp, 90%ynp, 10%ynp\n",
        "x_train, x_test, y_train, y_test = train_test_split(x_np, y_np, test_size=0.1) # test_size小數點代表幾成的意思 0.1 -> 1成"
      ],
      "metadata": {
        "colab": {
          "base_uri": "https://localhost:8080/"
        },
        "id": "mREA3xyr5tu3",
        "outputId": "a24efde8-9c50-4806-993b-faa8be3ab51e"
      },
      "execution_count": 12,
      "outputs": [
        {
          "output_type": "execute_result",
          "data": {
            "text/plain": [
              "[[1, 2, 3], [4], [5, 6, 7], [8], [9, 10, 11], [12]]"
            ]
          },
          "metadata": {},
          "execution_count": 12
        }
      ]
    }
  ]
}